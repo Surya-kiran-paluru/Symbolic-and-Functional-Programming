{
 "cells": [
  {
   "cell_type": "code",
   "execution_count": 1,
   "metadata": {},
   "outputs": [
    {
     "data": {
      "text/latex": [
       "$\\displaystyle 1.414213562373095048801688724209698078569671875376948073176679737990732478462107038850387534327641573$"
      ],
      "text/plain": [
       "1.414213562373095048801688724209698078569671875376948073176679737990732478462107038850387534327641573"
      ]
     },
     "execution_count": 1,
     "metadata": {},
     "output_type": "execute_result"
    }
   ],
   "source": [
    "#1 i\n",
    "from sympy import *\n",
    "N(sqrt(2),100)"
   ]
  },
  {
   "cell_type": "code",
   "execution_count": 10,
   "metadata": {},
   "outputs": [
    {
     "data": {
      "text/latex": [
       "$\\displaystyle \\frac{5}{6}$"
      ],
      "text/plain": [
       "5/6"
      ]
     },
     "execution_count": 10,
     "metadata": {},
     "output_type": "execute_result"
    }
   ],
   "source": [
    "#1 ii\n",
    "from sympy import *\n",
    "import sympy as sym\n",
    "a53=sym.Rational(1,2)\n",
    "b53=sym.Rational(1,3)\n",
    "sym.simplify(a53+b53)"
   ]
  },
  {
   "cell_type": "code",
   "execution_count": 5,
   "metadata": {},
   "outputs": [
    {
     "data": {
      "text/latex": [
       "$\\displaystyle x^{6} + 6 x^{5} y + 15 x^{4} y^{2} + 20 x^{3} y^{3} + 15 x^{2} y^{4} + 6 x y^{5} + y^{6}$"
      ],
      "text/plain": [
       "x**6 + 6*x**5*y + 15*x**4*y**2 + 20*x**3*y**3 + 15*x**2*y**4 + 6*x*y**5 + y**6"
      ]
     },
     "execution_count": 5,
     "metadata": {},
     "output_type": "execute_result"
    }
   ],
   "source": [
    "#1 iii\n",
    "from sympy import *\n",
    "import sympy as sym\n",
    "x53=sym.Symbol('x')\n",
    "y53=sym.Symbol('y')\n",
    "sym.expand((x53+y53) ** 6)"
   ]
  },
  {
   "cell_type": "code",
   "execution_count": 14,
   "metadata": {},
   "outputs": [
    {
     "data": {
      "text/latex": [
       "$\\displaystyle \\tan{\\left(x \\right)}$"
      ],
      "text/plain": [
       "tan(x)"
      ]
     },
     "execution_count": 14,
     "metadata": {},
     "output_type": "execute_result"
    }
   ],
   "source": [
    "#1 iv\n",
    "from sympy import *\n",
    "sym.simplify(sin(x)/cos(x))"
   ]
  },
  {
   "cell_type": "code",
   "execution_count": 15,
   "metadata": {},
   "outputs": [
    {
     "name": "stdout",
     "output_type": "stream",
     "text": [
      "After Simplification : -n*x**4 + sin(x)\n"
     ]
    }
   ],
   "source": [
    "#1 v\n",
    "import sympy\n",
    "from sympy import *\n",
    "x53,n53 = symbols('x n')\n",
    "expr = sin(x53)-x53*x53**3*n53\n",
    "\n",
    "smpl = trigsimp(expr)\n",
    "\n",
    "print(\"After Simplification : {}\".format(smpl))"
   ]
  },
  {
   "cell_type": "code",
   "execution_count": 12,
   "metadata": {},
   "outputs": [
    {
     "data": {
      "text/latex": [
       "$\\displaystyle a - b$"
      ],
      "text/plain": [
       "a - b"
      ]
     },
     "execution_count": 12,
     "metadata": {},
     "output_type": "execute_result"
    }
   ],
   "source": [
    "#2\n",
    "from sympy import *\n",
    "import sympy as sym\n",
    "a53=sym.Symbol('a')\n",
    "\n",
    "b53=sym.Symbol('b')\n",
    "sym.simplify(a53-a53*b53+a53*b53-b53)"
   ]
  },
  {
   "cell_type": "code",
   "execution_count": 18,
   "metadata": {},
   "outputs": [
    {
     "name": "stdout",
     "output_type": "stream",
     "text": [
      "After integration:a**4/12\n"
     ]
    }
   ],
   "source": [
    "#3 i\n",
    "a=symbols('a')\n",
    "f=integrate('a**2',a)\n",
    "s=integrate(f,a)\n",
    "print(\"After integration:\"+str(s))"
   ]
  },
  {
   "cell_type": "code",
   "execution_count": 17,
   "metadata": {},
   "outputs": [
    {
     "name": "stdout",
     "output_type": "stream",
     "text": [
      "After Differentiation:cos(x)\n"
     ]
    }
   ],
   "source": [
    "#3 iv\n",
    "a=symbols('x')\n",
    "f=sin(x)\n",
    "s=diff(f,a)\n",
    "print(\"After Differentiation:\"+str(s))"
   ]
  },
  {
   "cell_type": "code",
   "execution_count": 16,
   "metadata": {},
   "outputs": [
    {
     "data": {
      "text/latex": [
       "$\\displaystyle \\frac{3}{10}$"
      ],
      "text/plain": [
       "3/10"
      ]
     },
     "execution_count": 16,
     "metadata": {},
     "output_type": "execute_result"
    }
   ],
   "source": [
    "#3 iii\n",
    "from sympy import *\n",
    "import sympy as sym\n",
    "a53=sym.Rational(1,10)\n",
    "b53=sym.Rational(1,5)\n",
    "sym.simplify(a53+b53)"
   ]
  }
 ],
 "metadata": {
  "kernelspec": {
   "display_name": "Python 3",
   "language": "python",
   "name": "python3"
  },
  "language_info": {
   "codemirror_mode": {
    "name": "ipython",
    "version": 3
   },
   "file_extension": ".py",
   "mimetype": "text/x-python",
   "name": "python",
   "nbconvert_exporter": "python",
   "pygments_lexer": "ipython3",
   "version": "3.8.5"
  }
 },
 "nbformat": 4,
 "nbformat_minor": 4
}
